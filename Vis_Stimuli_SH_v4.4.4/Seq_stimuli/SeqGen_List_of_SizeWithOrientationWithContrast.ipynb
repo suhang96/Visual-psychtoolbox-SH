{
 "cells": [
  {
   "cell_type": "code",
   "execution_count": 2,
   "id": "6ce6e0e5",
   "metadata": {},
   "outputs": [],
   "source": [
    "import numpy as np"
   ]
  },
  {
   "cell_type": "code",
   "execution_count": 3,
   "id": "201d5971",
   "metadata": {},
   "outputs": [
    {
     "name": "stdout",
     "output_type": "stream",
     "text": [
      "Total Trials =  750\n"
     ]
    }
   ],
   "source": [
    "####### Generate stimuli list for contrast/orientation \n",
    "ori_list = np.linspace(0,315,8).tolist() # 45 degrees, 8 orientations\n",
    "contrast_list = [0.8, 0.6, 0.4, 0.2, 0.1, 0.05] # manually input contrast\n",
    "num_empty_trials=2 # number of empty trials each block\n",
    "num_blocks = 15 # 15repeats for each stimulation combination\n",
    "\n",
    "# combine orientation and contrast\n",
    "ori_contrast_list = np.zeros((len(contrast_list)*len(ori_list)+num_empty_trials,2))\n",
    "i = num_empty_trials-1\n",
    "for ori in ori_list:\n",
    "    for contrast in contrast_list:\n",
    "        i = i+1\n",
    "        ori_contrast_list[i,:] = ori, contrast\n",
    "ori_contrast_list_repeats = np.vstack([ori_contrast_list]*num_blocks)\n",
    "np.savetxt('Ori_Contrast_15reps.txt', ori_contrast_list_repeats, fmt='%10.2f', delimiter=' ')\n",
    "print('Total Trials = ', num_blocks*(num_empty_trials+len(contrast_list)*len(ori_list)))"
   ]
  },
  {
   "cell_type": "code",
   "execution_count": 3,
   "id": "90fb9c14",
   "metadata": {},
   "outputs": [
    {
     "name": "stdout",
     "output_type": "stream",
     "text": [
      "Total Trials =  1260\n"
     ]
    }
   ],
   "source": [
    "####### Generate stimuli list for size/contrast/orientation \n",
    "ori_list = [0, 45, 90, 135] # 45 degrees, 4 orientations\n",
    "contrast_list = [0.8, 0.4, 0.2, 0.1] # manually input contrast\n",
    "size_list = [60, 45, 25, 15, 5] # manually input size\n",
    "num_empty_trials=4 # number of empty trials each block\n",
    "num_blocks = 15 # 15repeats for each stimulation combination\n",
    "# combine orientation and contrast\n",
    "ori_contrast_size_list = np.zeros((len(size_list)*len(contrast_list)*len(ori_list)+num_empty_trials,3))\n",
    "i = num_empty_trials-1\n",
    "for ori in ori_list:\n",
    "    for contrast in contrast_list:\n",
    "        for size in size_list:\n",
    "            i = i+1\n",
    "            ori_contrast_size_list[i] = ori, contrast, size\n",
    "ori_contrast_size_list_repeats = np.vstack([ori_contrast_size_list]*num_blocks)\n",
    "np.savetxt('Size_Ori_Contrast_15reps.txt', ori_contrast_size_list_repeats, fmt='%10.2f', delimiter=' ')\n",
    "print('Total Trials = ', num_blocks*(num_empty_trials+len(size_list)*len(contrast_list)*len(ori_list)))"
   ]
  },
  {
   "cell_type": "code",
   "execution_count": 4,
   "id": "77ae8a0f",
   "metadata": {},
   "outputs": [
    {
     "name": "stdout",
     "output_type": "stream",
     "text": [
      "Total Trials =  1260\n"
     ]
    }
   ],
   "source": [
    "####### Generate stimuli list for size/contrast/direction \n",
    "dir_list = [0, 90, 180, 270] # 45 degrees, 4 orientations\n",
    "contrast_list = [0.8, 0.4, 0.2, 0.1] # manually input contrast\n",
    "size_list = [60, 45, 25, 15, 5] # manually input size\n",
    "num_empty_trials=4 # number of empty trials each block\n",
    "num_blocks = 15 # 15repeats for each stimulation combination\n",
    "# combine direction and contrast\n",
    "dir_contrast_size_list = np.zeros((len(size_list)*len(contrast_list)*len(dir_list)+num_empty_trials,3))\n",
    "i = num_empty_trials-1\n",
    "for dir in dir_list:\n",
    "    for contrast in contrast_list:\n",
    "        for size in size_list:\n",
    "            i = i+1\n",
    "            dir_contrast_size_list[i] = dir, contrast, size\n",
    "dir_contrast_size_list_repeats = np.vstack([dir_contrast_size_list]*num_blocks)\n",
    "np.savetxt('Size_Dir_Contrast_15reps.txt', dir_contrast_size_list_repeats, fmt='%10.2f', delimiter=' ')\n",
    "print('Total Trials = ', num_blocks*(num_empty_trials+len(size_list)*len(contrast_list)*len(dir_list)))"
   ]
  }
 ],
 "metadata": {
  "kernelspec": {
   "display_name": "Python 3 (ipykernel)",
   "language": "python",
   "name": "python3"
  },
  "language_info": {
   "codemirror_mode": {
    "name": "ipython",
    "version": 3
   },
   "file_extension": ".py",
   "mimetype": "text/x-python",
   "name": "python",
   "nbconvert_exporter": "python",
   "pygments_lexer": "ipython3",
   "version": "3.9.7"
  }
 },
 "nbformat": 4,
 "nbformat_minor": 5
}
